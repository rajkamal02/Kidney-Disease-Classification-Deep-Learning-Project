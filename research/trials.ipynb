{
 "cells": [
  {
   "cell_type": "code",
   "execution_count": 1,
   "id": "f4cba066",
   "metadata": {},
   "outputs": [],
   "source": [
    "\n",
    "d = {\"key\":\"val\",\"key1\": \"val1\"}\n"
   ]
  },
  {
   "cell_type": "code",
   "execution_count": 2,
   "id": "a7248c31",
   "metadata": {},
   "outputs": [
    {
     "data": {
      "text/plain": [
       "'val'"
      ]
     },
     "execution_count": 2,
     "metadata": {},
     "output_type": "execute_result"
    }
   ],
   "source": [
    "d['key']"
   ]
  },
  {
   "cell_type": "code",
   "execution_count": 3,
   "id": "029d5fed",
   "metadata": {},
   "outputs": [],
   "source": [
    "from box import ConfigBox"
   ]
  },
  {
   "cell_type": "code",
   "execution_count": 4,
   "id": "390dd3ed",
   "metadata": {},
   "outputs": [
    {
     "data": {
      "text/plain": [
       "'val1'"
      ]
     },
     "execution_count": 4,
     "metadata": {},
     "output_type": "execute_result"
    }
   ],
   "source": [
    "d2 = ConfigBox({\"key\":\"val\",\"key1\": \"val1\"})\n",
    "d2.key1"
   ]
  },
  {
   "cell_type": "code",
   "execution_count": 5,
   "id": "4eb3fc64",
   "metadata": {},
   "outputs": [],
   "source": [
    "def get_prodict(x:int, y:int) -> int:\n",
    "    return x*y"
   ]
  },
  {
   "cell_type": "code",
   "execution_count": 6,
   "id": "760ea99d",
   "metadata": {},
   "outputs": [
    {
     "data": {
      "text/plain": [
       "'33'"
      ]
     },
     "execution_count": 6,
     "metadata": {},
     "output_type": "execute_result"
    }
   ],
   "source": [
    "get_prodict(x=2,y=\"3\")\n"
   ]
  },
  {
   "cell_type": "code",
   "execution_count": 7,
   "id": "21283429",
   "metadata": {},
   "outputs": [],
   "source": [
    "from ensure import ensure_annotations"
   ]
  },
  {
   "cell_type": "code",
   "execution_count": 8,
   "id": "0abbd8ed",
   "metadata": {},
   "outputs": [],
   "source": [
    "@ensure_annotations\n",
    "def get_prodict(x:int, y:int) -> int:\n",
    "    return x*y\n"
   ]
  },
  {
   "cell_type": "code",
   "execution_count": null,
   "id": "d63555bb",
   "metadata": {},
   "outputs": [
    {
     "data": {
      "text/plain": [
       "6"
      ]
     },
     "execution_count": 9,
     "metadata": {},
     "output_type": "execute_result"
    }
   ],
   "source": [
    "get_prodict(x=2,y=\"3\")"
   ]
  },
  {
   "cell_type": "code",
   "execution_count": null,
   "id": "3880d95f",
   "metadata": {},
   "outputs": [],
   "source": []
  },
  {
   "cell_type": "code",
   "execution_count": null,
   "id": "c1f6c6df",
   "metadata": {},
   "outputs": [],
   "source": []
  }
 ],
 "metadata": {
  "kernelspec": {
   "display_name": "kidney",
   "language": "python",
   "name": "python3"
  },
  "language_info": {
   "codemirror_mode": {
    "name": "ipython",
    "version": 3
   },
   "file_extension": ".py",
   "mimetype": "text/x-python",
   "name": "python",
   "nbconvert_exporter": "python",
   "pygments_lexer": "ipython3",
   "version": "3.11.4"
  }
 },
 "nbformat": 4,
 "nbformat_minor": 5
}
